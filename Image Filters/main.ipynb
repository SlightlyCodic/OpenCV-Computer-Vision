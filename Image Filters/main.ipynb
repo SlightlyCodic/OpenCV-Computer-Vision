{
 "cells": [
  {
   "cell_type": "markdown",
   "id": "c05f72ba-7668-40ab-b006-5a7578b75623",
   "metadata": {},
   "source": [
    "Installing the Opencv library"
   ]
  },
  {
   "cell_type": "code",
   "execution_count": 3,
   "id": "35288155-11f3-4a64-bb62-438bca9f96c6",
   "metadata": {},
   "outputs": [
    {
     "name": "stdout",
     "output_type": "stream",
     "text": [
      "Collecting opencv-pythonNote: you may need to restart the kernel to use updated packages.\n",
      "\n",
      "  Using cached opencv_python-4.10.0.84-cp37-abi3-win_amd64.whl.metadata (20 kB)\n",
      "Requirement already satisfied: numpy>=1.21.2 in c:\\users\\chira\\anaconda3\\lib\\site-packages (from opencv-python) (1.26.4)\n",
      "Using cached opencv_python-4.10.0.84-cp37-abi3-win_amd64.whl (38.8 MB)\n",
      "Installing collected packages: opencv-python\n",
      "Successfully installed opencv-python-4.10.0.84\n"
     ]
    }
   ],
   "source": [
    "pip install opencv-python"
   ]
  },
  {
   "cell_type": "markdown",
   "id": "2231f45f-b6fa-4cb3-84e3-9d6389aa0af1",
   "metadata": {},
   "source": [
    "Importing the opencv Library"
   ]
  },
  {
   "cell_type": "code",
   "execution_count": 3,
   "id": "4e264d98-e003-4e27-891f-c5df1f73e280",
   "metadata": {},
   "outputs": [],
   "source": [
    "import cv2"
   ]
  },
  {
   "cell_type": "code",
   "execution_count": 5,
   "id": "09ef898b-067a-4319-947a-b92ed5e8050f",
   "metadata": {},
   "outputs": [],
   "source": [
    "img = cv2.imread(\"Image/Dog.jpg\")\n",
    "cv2.imshow(\"Display Window\",img)\n",
    "cv2.waitKey(0)"
   ]
  },
  {
   "cell_type": "markdown",
   "id": "d2349f39",
   "metadata": {},
   "source": [
    "Resize the display window having 500 height and 500 width"
   ]
  },
  {
   "cell_type": "code",
   "execution_count": null,
   "id": "d4466616-0082-4a5d-b736-db9372b04ae8",
   "metadata": {},
   "outputs": [],
   "source": [
    "imgS = cv2.resize(img, (500,500))\n",
    "cv2.imshow(\"Resize Display Window\",imgS)\n",
    "cv2.waitKey(0)"
   ]
  },
  {
   "cell_type": "markdown",
   "id": "f10fe730",
   "metadata": {},
   "source": [
    "Opencv reads the image in BGR format i.e (Blue, Green, Red). Whenever you read the image using cv2.imread() and show using cv2.imshow() they both work with BGR format so you will not see the difference. But when you read the image using opencv and display using the matplotlib plt.imshow() you can see the image output in BGR format. "
   ]
  },
  {
   "cell_type": "markdown",
   "id": "07088180",
   "metadata": {},
   "source": [
    "Using plt figure to display the image\n"
   ]
  },
  {
   "cell_type": "code",
   "execution_count": null,
   "id": "4eff38a7",
   "metadata": {},
   "outputs": [],
   "source": [
    "import matplotlib.pyplot as plt\n",
    "plt.figure()\n",
    "plt.imshow(imgS)\n",
    "plt.show()"
   ]
  },
  {
   "cell_type": "markdown",
   "id": "a14951e8",
   "metadata": {},
   "source": [
    "GrayScale Image ( Black and White )\n",
    "\n",
    "Convert the image to Grayscale (Black and White)"
   ]
  },
  {
   "cell_type": "code",
   "execution_count": null,
   "id": "2be29fd1",
   "metadata": {},
   "outputs": [],
   "source": [
    "grayscale_img = cv2.cvtColor(imgS, cv2.COLOR_BGR2GRAY)\n",
    "cv2.imshow(\"Grayscale Image\", grayscale_img)\n",
    "cv2.waitKey(0)"
   ]
  },
  {
   "cell_type": "markdown",
   "id": "62ca70f8",
   "metadata": {},
   "source": [
    "Image Blurring\n",
    "\n",
    "Box Filter\n",
    "\n",
    "Gaussian Blur"
   ]
  },
  {
   "cell_type": "code",
   "execution_count": null,
   "id": "b2cf4f56",
   "metadata": {},
   "outputs": [],
   "source": [
    "# Blurring the image using the Box Filter\n",
    "box_blur = cv2.boxFilter(imgS, -1, (5,5))\n",
    "cv2.imshow(\"Box Blur\", box_blur)\n",
    "cv2.waitKey(0)"
   ]
  },
  {
   "cell_type": "code",
   "execution_count": null,
   "id": "596af717",
   "metadata": {},
   "outputs": [],
   "source": [
    "# Blurring the image using Gaussian Blur\n",
    "blur_img = cv2.GaussianBlur(imgS, (15,15), 0)\n",
    "cv2.imshow(\"Gaussian Blur Image\", blur_img)\n",
    "cv2.waitKey(0)\n"
   ]
  },
  {
   "cell_type": "markdown",
   "id": "58c58db1",
   "metadata": {},
   "source": [
    "Edge Detection\n",
    "\n",
    "Canny Edge Dectection"
   ]
  },
  {
   "cell_type": "code",
   "execution_count": null,
   "id": "007a3e71",
   "metadata": {},
   "outputs": [],
   "source": [
    "# Apply edge detection\n",
    "edge_img = cv2.Canny(grayscale_img, 255/3, 255) \n",
    "# lower threshold and higher threshold. Edges Intensity higher than max threshold \n",
    "# are considered sure edges while edges lower than min threshold are considered non edges, edges whose connected with the sure edges\n",
    "# are considered to be an edge.\n",
    "cv2.imshow(\"Canny Edge Detection\", edge_img)\n",
    "cv2.waitKey(0)"
   ]
  }
 ],
 "metadata": {
  "kernelspec": {
   "display_name": "Python 3 (ipykernel)",
   "language": "python",
   "name": "python3"
  },
  "language_info": {
   "codemirror_mode": {
    "name": "ipython",
    "version": 3
   },
   "file_extension": ".py",
   "mimetype": "text/x-python",
   "name": "python",
   "nbconvert_exporter": "python",
   "pygments_lexer": "ipython3",
   "version": "3.12.7"
  }
 },
 "nbformat": 4,
 "nbformat_minor": 5
}
